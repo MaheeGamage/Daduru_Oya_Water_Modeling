{
 "cells": [
  {
   "cell_type": "code",
   "execution_count": 1,
   "metadata": {},
   "outputs": [],
   "source": [
    "import pandas as pd\n",
    "import numpy as np\n",
    "import datetime as dt\n",
    "import matplotlib.pyplot as plt\n",
    "import seaborn as sns\n",
    "import matplotlib.dates as mdates\n",
    "from pyod.models.abod import ABOD\n",
    "from pyod.models.knn import KNN"
   ]
  },
  {
   "cell_type": "code",
   "execution_count": 2,
   "metadata": {},
   "outputs": [],
   "source": [
    "data = pd.read_csv(\n",
    "    \"F:\\Learning\\Bsc.IT(Hon)\\Research Project\\ShortTerm Model\\Data\\Lycium Mod.csv\"\n",
    "    ,low_memory=False\n",
    ")"
   ]
  },
  {
   "cell_type": "code",
   "execution_count": 3,
   "metadata": {},
   "outputs": [
    {
     "data": {
      "text/plain": [
       "(77094, 20)"
      ]
     },
     "execution_count": 3,
     "metadata": {},
     "output_type": "execute_result"
    }
   ],
   "source": [
    "data.shape"
   ]
  },
  {
   "cell_type": "markdown",
   "metadata": {},
   "source": [
    "### Changing Column names"
   ]
  },
  {
   "cell_type": "code",
   "execution_count": 4,
   "metadata": {},
   "outputs": [],
   "source": [
    "data.rename(columns={'urn:ogc:def:parameter:x-istsos:1.0:time:iso8601':'DateTime',\n",
    "                     'urn:ogc:def:procedure':'Station',\n",
    "                     'urn:ogc:def:parameter:x-istsos:1.0:air:temperature:internal':'air-temperature-internal',\n",
    "                     'urn:ogc:def:parameter:x-istsos:1.0:air:temperature:internal:qualityIndex':'air-temperature-internal_QI',\n",
    "                     'urn:ogc:def:parameter:x-istsos:1.0:meteo:soil:moisture':'soil-moisture',\n",
    "                     'urn:ogc:def:parameter:x-istsos:1.0:meteo:soil:moisture:qualityIndex':'soil-moisture_QI',\n",
    "                     'urn:ogc:def:parameter:x-istsos:1.0:meteo:solar:light':'light',\n",
    "                     'urn:ogc:def:parameter:x-istsos:1.0:meteo:solar:light:qualityIndex':'light_QI',\n",
    "                     'urn:ogc:def:parameter:x-istsos:1.0:meteo:air:pressure':'air-pressure',\n",
    "                     'urn:ogc:def:parameter:x-istsos:1.0:meteo:air:pressure:qualityIndex':'air-pressure_QI',\n",
    "                     'urn:ogc:def:parameter:x-istsos:1.0:meteo:air:humidity:relative':'air-humidity-relative',\n",
    "                     'urn:ogc:def:parameter:x-istsos:1.0:meteo:air:humidity:relative:qualityIndex':'air-humidity-relative_QI',\n",
    "                     'urn:ogc:def:parameter:x-istsos:1.0:meteo:air:temperature':'air-temperature',\n",
    "                     'urn:ogc:def:parameter:x-istsos:1.0:meteo:air:temperature:qualityIndex':'air-temperature_QI',\n",
    "                     'urn:ogc:def:parameter:x-istsos:1.0:meteo:air:rainfall':'air-rainfall',\n",
    "                     'urn:ogc:def:parameter:x-istsos:1.0:meteo:air:rainfall:qualityIndex':'air-rainfall_QI',\n",
    "                     'urn:ogc:def:parameter:x-istsos:1.0:meteo:air:wind:direction':'air-wind-direction',\n",
    "                     'urn:ogc:def:parameter:x-istsos:1.0:meteo:air:wind:direction:qualityIndex':'air-wind-direction_QI',\n",
    "                     'urn:ogc:def:parameter:x-istsos:1.0:meteo:air:wind:velocity':'air-wind-velocity',\n",
    "                     'urn:ogc:def:parameter:x-istsos:1.0:meteo:air:wind:velocity:qualityIndex':'air-wind-velocity_QI',\n",
    "                    }, \n",
    "                 inplace=True)\n"
   ]
  },
  {
   "cell_type": "code",
   "execution_count": 5,
   "metadata": {},
   "outputs": [],
   "source": [
    "data = data.drop(\"air-temperature-internal_QI\", axis=1)\n",
    "data = data.drop(\"soil-moisture_QI\", axis=1)\n",
    "data = data.drop(\"light_QI\", axis=1)\n",
    "data = data.drop(\"air-pressure_QI\", axis=1)\n",
    "data = data.drop(\"air-humidity-relative_QI\", axis=1)\n",
    "data = data.drop(\"air-temperature_QI\", axis=1)\n",
    "data = data.drop(\"air-rainfall_QI\", axis=1)\n",
    "data = data.drop(\"air-wind-direction_QI\", axis=1)\n",
    "data = data.drop(\"air-wind-velocity_QI\", axis=1)"
   ]
  },
  {
   "cell_type": "code",
   "execution_count": 6,
   "metadata": {},
   "outputs": [
    {
     "data": {
      "text/html": [
       "<div>\n",
       "<style scoped>\n",
       "    .dataframe tbody tr th:only-of-type {\n",
       "        vertical-align: middle;\n",
       "    }\n",
       "\n",
       "    .dataframe tbody tr th {\n",
       "        vertical-align: top;\n",
       "    }\n",
       "\n",
       "    .dataframe thead th {\n",
       "        text-align: right;\n",
       "    }\n",
       "</style>\n",
       "<table border=\"1\" class=\"dataframe\">\n",
       "  <thead>\n",
       "    <tr style=\"text-align: right;\">\n",
       "      <th></th>\n",
       "      <th>DateTime</th>\n",
       "      <th>Station</th>\n",
       "      <th>air-temperature-internal</th>\n",
       "      <th>soil-moisture</th>\n",
       "      <th>light</th>\n",
       "      <th>air-pressure</th>\n",
       "      <th>air-humidity-relative</th>\n",
       "      <th>air-temperature</th>\n",
       "      <th>air-rainfall</th>\n",
       "      <th>air-wind-direction</th>\n",
       "      <th>air-wind-velocity</th>\n",
       "    </tr>\n",
       "  </thead>\n",
       "  <tbody>\n",
       "    <tr>\n",
       "      <th>77089</th>\n",
       "      <td>2019-10-18T23:08:06+05:30</td>\n",
       "      <td>LYCEUM_MOD</td>\n",
       "      <td>24</td>\n",
       "      <td>0</td>\n",
       "      <td>0</td>\n",
       "      <td>995.71</td>\n",
       "      <td>77.59</td>\n",
       "      <td>22.94</td>\n",
       "      <td>0</td>\n",
       "      <td>0</td>\n",
       "      <td>0</td>\n",
       "    </tr>\n",
       "    <tr>\n",
       "      <th>77090</th>\n",
       "      <td>2019-10-18T23:20:02+05:30</td>\n",
       "      <td>LYCEUM_MOD</td>\n",
       "      <td>23</td>\n",
       "      <td>0</td>\n",
       "      <td>0</td>\n",
       "      <td>995.72</td>\n",
       "      <td>78.57</td>\n",
       "      <td>22.88</td>\n",
       "      <td>0</td>\n",
       "      <td>-999.99</td>\n",
       "      <td>0</td>\n",
       "    </tr>\n",
       "    <tr>\n",
       "      <th>77091</th>\n",
       "      <td>2019-10-18T23:30:00+05:30</td>\n",
       "      <td>LYCEUM_MOD</td>\n",
       "      <td>23</td>\n",
       "      <td>0</td>\n",
       "      <td>0</td>\n",
       "      <td>995.68</td>\n",
       "      <td>78.37</td>\n",
       "      <td>22.95</td>\n",
       "      <td>0</td>\n",
       "      <td>0</td>\n",
       "      <td>0</td>\n",
       "    </tr>\n",
       "    <tr>\n",
       "      <th>77092</th>\n",
       "      <td>2019-10-18T23:40:03+05:30</td>\n",
       "      <td>LYCEUM_MOD</td>\n",
       "      <td>23</td>\n",
       "      <td>0</td>\n",
       "      <td>0</td>\n",
       "      <td>995.63</td>\n",
       "      <td>77.19</td>\n",
       "      <td>22.92</td>\n",
       "      <td>0</td>\n",
       "      <td>-999.99</td>\n",
       "      <td>0</td>\n",
       "    </tr>\n",
       "    <tr>\n",
       "      <th>77093</th>\n",
       "      <td>2019-10-18T23:50:01+05:30</td>\n",
       "      <td>LYCEUM_MOD</td>\n",
       "      <td>23</td>\n",
       "      <td>0</td>\n",
       "      <td>0</td>\n",
       "      <td>995.64</td>\n",
       "      <td>77.87</td>\n",
       "      <td>22.82</td>\n",
       "      <td>0</td>\n",
       "      <td>-999.99</td>\n",
       "      <td>0</td>\n",
       "    </tr>\n",
       "  </tbody>\n",
       "</table>\n",
       "</div>"
      ],
      "text/plain": [
       "                        DateTime     Station air-temperature-internal  \\\n",
       "77089  2019-10-18T23:08:06+05:30  LYCEUM_MOD                       24   \n",
       "77090  2019-10-18T23:20:02+05:30  LYCEUM_MOD                       23   \n",
       "77091  2019-10-18T23:30:00+05:30  LYCEUM_MOD                       23   \n",
       "77092  2019-10-18T23:40:03+05:30  LYCEUM_MOD                       23   \n",
       "77093  2019-10-18T23:50:01+05:30  LYCEUM_MOD                       23   \n",
       "\n",
       "      soil-moisture light air-pressure air-humidity-relative air-temperature  \\\n",
       "77089             0     0       995.71                 77.59           22.94   \n",
       "77090             0     0       995.72                 78.57           22.88   \n",
       "77091             0     0       995.68                 78.37           22.95   \n",
       "77092             0     0       995.63                 77.19           22.92   \n",
       "77093             0     0       995.64                 77.87           22.82   \n",
       "\n",
       "      air-rainfall air-wind-direction air-wind-velocity  \n",
       "77089            0                  0                 0  \n",
       "77090            0            -999.99                 0  \n",
       "77091            0                  0                 0  \n",
       "77092            0            -999.99                 0  \n",
       "77093            0            -999.99                 0  "
      ]
     },
     "execution_count": 6,
     "metadata": {},
     "output_type": "execute_result"
    }
   ],
   "source": [
    "data.tail(5)"
   ]
  },
  {
   "cell_type": "code",
   "execution_count": 7,
   "metadata": {},
   "outputs": [],
   "source": [
    "data['DateTime'] = pd.to_datetime(data['DateTime'], format='%Y-%m-%d %H:%M:%S')\n",
    "data['DateTime'] = data['DateTime'].dt.strftime('%Y-%m-%d %H:%M:%S')"
   ]
  },
  {
   "cell_type": "code",
   "execution_count": 8,
   "metadata": {
    "scrolled": false
   },
   "outputs": [
    {
     "data": {
      "text/plain": [
       "DateTime                    object\n",
       "Station                     object\n",
       "air-temperature-internal    object\n",
       "soil-moisture               object\n",
       "light                       object\n",
       "air-pressure                object\n",
       "air-humidity-relative       object\n",
       "air-temperature             object\n",
       "air-rainfall                object\n",
       "air-wind-direction          object\n",
       "air-wind-velocity           object\n",
       "dtype: object"
      ]
     },
     "execution_count": 8,
     "metadata": {},
     "output_type": "execute_result"
    }
   ],
   "source": [
    "data.dtypes"
   ]
  },
  {
   "cell_type": "code",
   "execution_count": 9,
   "metadata": {},
   "outputs": [],
   "source": [
    "data['air-temperature-internal'] = pd.to_numeric(data['air-temperature-internal'], errors='coerce')\n",
    "data['soil-moisture'] = pd.to_numeric(data['soil-moisture'], errors='coerce')\n",
    "data['light'] = pd.to_numeric(data['light'], errors='coerce')\n",
    "data['air-pressure'] = pd.to_numeric(data['air-pressure'], errors='coerce')\n",
    "data['air-humidity-relative'] = pd.to_numeric(data['air-humidity-relative'], errors='coerce')\n",
    "data['air-temperature'] = pd.to_numeric(data['air-temperature'], errors='coerce')\n",
    "data['air-rainfall'] = pd.to_numeric(data['air-rainfall'], errors='coerce')\n",
    "data['air-wind-direction'] = pd.to_numeric(data['air-wind-direction'], errors='coerce')\n",
    "data['air-wind-velocity'] = pd.to_numeric(data['air-wind-velocity'], errors='coerce')"
   ]
  },
  {
   "cell_type": "code",
   "execution_count": 10,
   "metadata": {},
   "outputs": [
    {
     "data": {
      "text/plain": [
       "DateTime                     object\n",
       "Station                      object\n",
       "air-temperature-internal    float64\n",
       "soil-moisture               float64\n",
       "light                       float64\n",
       "air-pressure                float64\n",
       "air-humidity-relative       float64\n",
       "air-temperature             float64\n",
       "air-rainfall                float64\n",
       "air-wind-direction          float64\n",
       "air-wind-velocity           float64\n",
       "dtype: object"
      ]
     },
     "execution_count": 10,
     "metadata": {},
     "output_type": "execute_result"
    }
   ],
   "source": [
    "data.dtypes"
   ]
  },
  {
   "cell_type": "code",
   "execution_count": 11,
   "metadata": {},
   "outputs": [
    {
     "data": {
      "text/html": [
       "<div>\n",
       "<style scoped>\n",
       "    .dataframe tbody tr th:only-of-type {\n",
       "        vertical-align: middle;\n",
       "    }\n",
       "\n",
       "    .dataframe tbody tr th {\n",
       "        vertical-align: top;\n",
       "    }\n",
       "\n",
       "    .dataframe thead th {\n",
       "        text-align: right;\n",
       "    }\n",
       "</style>\n",
       "<table border=\"1\" class=\"dataframe\">\n",
       "  <thead>\n",
       "    <tr style=\"text-align: right;\">\n",
       "      <th></th>\n",
       "      <th>DateTime</th>\n",
       "      <th>Station</th>\n",
       "      <th>air-temperature-internal</th>\n",
       "      <th>soil-moisture</th>\n",
       "      <th>light</th>\n",
       "      <th>air-pressure</th>\n",
       "      <th>air-humidity-relative</th>\n",
       "      <th>air-temperature</th>\n",
       "      <th>air-rainfall</th>\n",
       "      <th>air-wind-direction</th>\n",
       "      <th>air-wind-velocity</th>\n",
       "    </tr>\n",
       "  </thead>\n",
       "  <tbody>\n",
       "    <tr>\n",
       "      <th>0</th>\n",
       "      <td>2018-03-29 12:20:52</td>\n",
       "      <td>LYCEUM_MOD</td>\n",
       "      <td>35.0</td>\n",
       "      <td>63.0</td>\n",
       "      <td>347.0</td>\n",
       "      <td>997.07</td>\n",
       "      <td>50.45</td>\n",
       "      <td>34.94</td>\n",
       "      <td>0.0</td>\n",
       "      <td>315.0</td>\n",
       "      <td>0.0</td>\n",
       "    </tr>\n",
       "    <tr>\n",
       "      <th>1</th>\n",
       "      <td>2018-03-29 12:25:07</td>\n",
       "      <td>LYCEUM_MOD</td>\n",
       "      <td>35.0</td>\n",
       "      <td>62.0</td>\n",
       "      <td>0.0</td>\n",
       "      <td>996.94</td>\n",
       "      <td>44.33</td>\n",
       "      <td>34.81</td>\n",
       "      <td>0.0</td>\n",
       "      <td>45.0</td>\n",
       "      <td>0.0</td>\n",
       "    </tr>\n",
       "    <tr>\n",
       "      <th>2</th>\n",
       "      <td>2018-03-29 12:30:00</td>\n",
       "      <td>LYCEUM_MOD</td>\n",
       "      <td>35.0</td>\n",
       "      <td>61.0</td>\n",
       "      <td>0.0</td>\n",
       "      <td>996.78</td>\n",
       "      <td>39.29</td>\n",
       "      <td>35.94</td>\n",
       "      <td>0.0</td>\n",
       "      <td>45.0</td>\n",
       "      <td>0.0</td>\n",
       "    </tr>\n",
       "    <tr>\n",
       "      <th>3</th>\n",
       "      <td>2018-03-29 12:35:03</td>\n",
       "      <td>LYCEUM_MOD</td>\n",
       "      <td>36.0</td>\n",
       "      <td>61.0</td>\n",
       "      <td>0.0</td>\n",
       "      <td>996.63</td>\n",
       "      <td>43.26</td>\n",
       "      <td>35.13</td>\n",
       "      <td>0.0</td>\n",
       "      <td>315.0</td>\n",
       "      <td>0.0</td>\n",
       "    </tr>\n",
       "    <tr>\n",
       "      <th>4</th>\n",
       "      <td>2018-03-29 12:40:04</td>\n",
       "      <td>LYCEUM_MOD</td>\n",
       "      <td>36.0</td>\n",
       "      <td>60.0</td>\n",
       "      <td>0.0</td>\n",
       "      <td>996.45</td>\n",
       "      <td>40.05</td>\n",
       "      <td>35.75</td>\n",
       "      <td>0.0</td>\n",
       "      <td>180.0</td>\n",
       "      <td>0.0</td>\n",
       "    </tr>\n",
       "  </tbody>\n",
       "</table>\n",
       "</div>"
      ],
      "text/plain": [
       "              DateTime     Station  air-temperature-internal  soil-moisture  \\\n",
       "0  2018-03-29 12:20:52  LYCEUM_MOD                      35.0           63.0   \n",
       "1  2018-03-29 12:25:07  LYCEUM_MOD                      35.0           62.0   \n",
       "2  2018-03-29 12:30:00  LYCEUM_MOD                      35.0           61.0   \n",
       "3  2018-03-29 12:35:03  LYCEUM_MOD                      36.0           61.0   \n",
       "4  2018-03-29 12:40:04  LYCEUM_MOD                      36.0           60.0   \n",
       "\n",
       "   light  air-pressure  air-humidity-relative  air-temperature  air-rainfall  \\\n",
       "0  347.0        997.07                  50.45            34.94           0.0   \n",
       "1    0.0        996.94                  44.33            34.81           0.0   \n",
       "2    0.0        996.78                  39.29            35.94           0.0   \n",
       "3    0.0        996.63                  43.26            35.13           0.0   \n",
       "4    0.0        996.45                  40.05            35.75           0.0   \n",
       "\n",
       "   air-wind-direction  air-wind-velocity  \n",
       "0               315.0                0.0  \n",
       "1                45.0                0.0  \n",
       "2                45.0                0.0  \n",
       "3               315.0                0.0  \n",
       "4               180.0                0.0  "
      ]
     },
     "execution_count": 11,
     "metadata": {},
     "output_type": "execute_result"
    }
   ],
   "source": [
    "data.head()"
   ]
  },
  {
   "cell_type": "markdown",
   "metadata": {},
   "source": [
    "### Ploting Data"
   ]
  },
  {
   "cell_type": "code",
   "execution_count": 12,
   "metadata": {},
   "outputs": [
    {
     "data": {
      "image/png": "[encoded data removed]",
      "text/plain": [
       "<Figure size 1224x288 with 1 Axes>"
      ]
     },
     "metadata": {},
     "output_type": "display_data"
    }
   ],
   "source": [
    "sns.set(rc={'figure.figsize':(17, 4)})\n",
    "data[0:10000]['air-temperature-internal'].plot(linewidth=0.5);"
   ]
  },
  {
   "cell_type": "code",
   "execution_count": 13,
   "metadata": {},
   "outputs": [
    {
     "data": {
      "text/html": [
       "<div>\n",
       "<style scoped>\n",
       "    .dataframe tbody tr th:only-of-type {\n",
       "        vertical-align: middle;\n",
       "    }\n",
       "\n",
       "    .dataframe tbody tr th {\n",
       "        vertical-align: top;\n",
       "    }\n",
       "\n",
       "    .dataframe thead th {\n",
       "        text-align: right;\n",
       "    }\n",
       "</style>\n",
       "<table border=\"1\" class=\"dataframe\">\n",
       "  <thead>\n",
       "    <tr style=\"text-align: right;\">\n",
       "      <th></th>\n",
       "      <th>air-temperature-internal</th>\n",
       "      <th>soil-moisture</th>\n",
       "      <th>light</th>\n",
       "      <th>air-pressure</th>\n",
       "      <th>air-humidity-relative</th>\n",
       "      <th>air-temperature</th>\n",
       "      <th>air-rainfall</th>\n",
       "      <th>air-wind-direction</th>\n",
       "      <th>air-wind-velocity</th>\n",
       "    </tr>\n",
       "  </thead>\n",
       "  <tbody>\n",
       "    <tr>\n",
       "      <th>0</th>\n",
       "      <td>35.0</td>\n",
       "      <td>63.0</td>\n",
       "      <td>347.0</td>\n",
       "      <td>997.07</td>\n",
       "      <td>50.45</td>\n",
       "      <td>34.94</td>\n",
       "      <td>0.0</td>\n",
       "      <td>315.00</td>\n",
       "      <td>0.0</td>\n",
       "    </tr>\n",
       "    <tr>\n",
       "      <th>1</th>\n",
       "      <td>35.0</td>\n",
       "      <td>62.0</td>\n",
       "      <td>0.0</td>\n",
       "      <td>996.94</td>\n",
       "      <td>44.33</td>\n",
       "      <td>34.81</td>\n",
       "      <td>0.0</td>\n",
       "      <td>45.00</td>\n",
       "      <td>0.0</td>\n",
       "    </tr>\n",
       "    <tr>\n",
       "      <th>2</th>\n",
       "      <td>35.0</td>\n",
       "      <td>61.0</td>\n",
       "      <td>0.0</td>\n",
       "      <td>996.78</td>\n",
       "      <td>39.29</td>\n",
       "      <td>35.94</td>\n",
       "      <td>0.0</td>\n",
       "      <td>45.00</td>\n",
       "      <td>0.0</td>\n",
       "    </tr>\n",
       "    <tr>\n",
       "      <th>3</th>\n",
       "      <td>36.0</td>\n",
       "      <td>61.0</td>\n",
       "      <td>0.0</td>\n",
       "      <td>996.63</td>\n",
       "      <td>43.26</td>\n",
       "      <td>35.13</td>\n",
       "      <td>0.0</td>\n",
       "      <td>315.00</td>\n",
       "      <td>0.0</td>\n",
       "    </tr>\n",
       "    <tr>\n",
       "      <th>4</th>\n",
       "      <td>36.0</td>\n",
       "      <td>60.0</td>\n",
       "      <td>0.0</td>\n",
       "      <td>996.45</td>\n",
       "      <td>40.05</td>\n",
       "      <td>35.75</td>\n",
       "      <td>0.0</td>\n",
       "      <td>180.00</td>\n",
       "      <td>0.0</td>\n",
       "    </tr>\n",
       "    <tr>\n",
       "      <th>...</th>\n",
       "      <td>...</td>\n",
       "      <td>...</td>\n",
       "      <td>...</td>\n",
       "      <td>...</td>\n",
       "      <td>...</td>\n",
       "      <td>...</td>\n",
       "      <td>...</td>\n",
       "      <td>...</td>\n",
       "      <td>...</td>\n",
       "    </tr>\n",
       "    <tr>\n",
       "      <th>77089</th>\n",
       "      <td>24.0</td>\n",
       "      <td>0.0</td>\n",
       "      <td>0.0</td>\n",
       "      <td>995.71</td>\n",
       "      <td>77.59</td>\n",
       "      <td>22.94</td>\n",
       "      <td>0.0</td>\n",
       "      <td>0.00</td>\n",
       "      <td>0.0</td>\n",
       "    </tr>\n",
       "    <tr>\n",
       "      <th>77090</th>\n",
       "      <td>23.0</td>\n",
       "      <td>0.0</td>\n",
       "      <td>0.0</td>\n",
       "      <td>995.72</td>\n",
       "      <td>78.57</td>\n",
       "      <td>22.88</td>\n",
       "      <td>0.0</td>\n",
       "      <td>-999.99</td>\n",
       "      <td>0.0</td>\n",
       "    </tr>\n",
       "    <tr>\n",
       "      <th>77091</th>\n",
       "      <td>23.0</td>\n",
       "      <td>0.0</td>\n",
       "      <td>0.0</td>\n",
       "      <td>995.68</td>\n",
       "      <td>78.37</td>\n",
       "      <td>22.95</td>\n",
       "      <td>0.0</td>\n",
       "      <td>0.00</td>\n",
       "      <td>0.0</td>\n",
       "    </tr>\n",
       "    <tr>\n",
       "      <th>77092</th>\n",
       "      <td>23.0</td>\n",
       "      <td>0.0</td>\n",
       "      <td>0.0</td>\n",
       "      <td>995.63</td>\n",
       "      <td>77.19</td>\n",
       "      <td>22.92</td>\n",
       "      <td>0.0</td>\n",
       "      <td>-999.99</td>\n",
       "      <td>0.0</td>\n",
       "    </tr>\n",
       "    <tr>\n",
       "      <th>77093</th>\n",
       "      <td>23.0</td>\n",
       "      <td>0.0</td>\n",
       "      <td>0.0</td>\n",
       "      <td>995.64</td>\n",
       "      <td>77.87</td>\n",
       "      <td>22.82</td>\n",
       "      <td>0.0</td>\n",
       "      <td>-999.99</td>\n",
       "      <td>0.0</td>\n",
       "    </tr>\n",
       "  </tbody>\n",
       "</table>\n",
       "<p>77094 rows × 9 columns</p>\n",
       "</div>"
      ],
      "text/plain": [
       "       air-temperature-internal  soil-moisture  light  air-pressure  \\\n",
       "0                          35.0           63.0  347.0        997.07   \n",
       "1                          35.0           62.0    0.0        996.94   \n",
       "2                          35.0           61.0    0.0        996.78   \n",
       "3                          36.0           61.0    0.0        996.63   \n",
       "4                          36.0           60.0    0.0        996.45   \n",
       "...                         ...            ...    ...           ...   \n",
       "77089                      24.0            0.0    0.0        995.71   \n",
       "77090                      23.0            0.0    0.0        995.72   \n",
       "77091                      23.0            0.0    0.0        995.68   \n",
       "77092                      23.0            0.0    0.0        995.63   \n",
       "77093                      23.0            0.0    0.0        995.64   \n",
       "\n",
       "       air-humidity-relative  air-temperature  air-rainfall  \\\n",
       "0                      50.45            34.94           0.0   \n",
       "1                      44.33            34.81           0.0   \n",
       "2                      39.29            35.94           0.0   \n",
       "3                      43.26            35.13           0.0   \n",
       "4                      40.05            35.75           0.0   \n",
       "...                      ...              ...           ...   \n",
       "77089                  77.59            22.94           0.0   \n",
       "77090                  78.57            22.88           0.0   \n",
       "77091                  78.37            22.95           0.0   \n",
       "77092                  77.19            22.92           0.0   \n",
       "77093                  77.87            22.82           0.0   \n",
       "\n",
       "       air-wind-direction  air-wind-velocity  \n",
       "0                  315.00                0.0  \n",
       "1                   45.00                0.0  \n",
       "2                   45.00                0.0  \n",
       "3                  315.00                0.0  \n",
       "4                  180.00                0.0  \n",
       "...                   ...                ...  \n",
       "77089                0.00                0.0  \n",
       "77090             -999.99                0.0  \n",
       "77091                0.00                0.0  \n",
       "77092             -999.99                0.0  \n",
       "77093             -999.99                0.0  \n",
       "\n",
       "[77094 rows x 9 columns]"
      ]
     },
     "execution_count": 13,
     "metadata": {},
     "output_type": "execute_result"
    }
   ],
   "source": [
    "data.iloc[:,2:]"
   ]
  },
  {
   "cell_type": "markdown",
   "metadata": {},
   "source": [
    "# Checking for null values"
   ]
  },
  {
   "cell_type": "code",
   "execution_count": 14,
   "metadata": {},
   "outputs": [
    {
     "data": {
      "text/plain": [
       "True"
      ]
     },
     "execution_count": 14,
     "metadata": {},
     "output_type": "execute_result"
    }
   ],
   "source": [
    "data.isnull().values.any() #looks like we don't have any nulls"
   ]
  },
  {
   "cell_type": "code",
   "execution_count": 15,
   "metadata": {
    "scrolled": true
   },
   "outputs": [
    {
     "name": "stdout",
     "output_type": "stream",
     "text": [
      "DateTime                      0\n",
      "Station                       0\n",
      "air-temperature-internal     32\n",
      "soil-moisture                32\n",
      "light                        32\n",
      "air-pressure                 84\n",
      "air-humidity-relative        73\n",
      "air-temperature              32\n",
      "air-rainfall                 32\n",
      "air-wind-direction           38\n",
      "air-wind-velocity           148\n",
      "dtype: int64\n"
     ]
    }
   ],
   "source": [
    "print(data.isnull().sum())"
   ]
  },
  {
   "cell_type": "raw",
   "metadata": {},
   "source": [
    "data['air-temperature-internal'] = data['air-temperature-internal'].fillna()"
   ]
  },
  {
   "cell_type": "raw",
   "metadata": {},
   "source": [
    "col = 'air-pressure'\n",
    "data[col].fillna((data[col].shift() + data[col].shift(-1))/2 , inplace = True)"
   ]
  },
  {
   "cell_type": "code",
   "execution_count": 16,
   "metadata": {},
   "outputs": [],
   "source": [
    "data = data.interpolate()"
   ]
  },
  {
   "cell_type": "code",
   "execution_count": 17,
   "metadata": {},
   "outputs": [
    {
     "name": "stdout",
     "output_type": "stream",
     "text": [
      "DateTime                    0\n",
      "Station                     0\n",
      "air-temperature-internal    0\n",
      "soil-moisture               0\n",
      "light                       0\n",
      "air-pressure                0\n",
      "air-humidity-relative       0\n",
      "air-temperature             0\n",
      "air-rainfall                0\n",
      "air-wind-direction          0\n",
      "air-wind-velocity           0\n",
      "dtype: int64\n"
     ]
    }
   ],
   "source": [
    "print(data.isnull().sum())"
   ]
  },
  {
   "cell_type": "markdown",
   "metadata": {},
   "source": [
    "## Check for correlated columns"
   ]
  },
  {
   "cell_type": "code",
   "execution_count": 18,
   "metadata": {},
   "outputs": [],
   "source": [
    "def plot_corr(df,size=11): \n",
    "    \"\"\"\n",
    "    Function plots a graphical correlation matrix for each pair of columns in the dataframe.\n",
    "\n",
    "    Input:\n",
    "        df: pandas DataFrame\n",
    "        size: vertical and horizontal size of the plot\n",
    "\n",
    "    Displays:\n",
    "        matrix of correlation between columns.  Yellow means that they are highly correlated.\n",
    "                                           \n",
    "    \"\"\"\n",
    "    corr = df.corr() # calling the correlation function on the datafrmae\n",
    "    fig, ax = plt.subplots(figsize=(size,size))\n",
    "    ax.matshow(corr) # color code the rectangles by correlation value\n",
    "    plt.xticks(range(len(corr.columns)),corr.columns) # draw x tickmarks\n",
    "    plt.yticks(range(len(corr.columns)),corr.columns) # draw y tickmarks"
   ]
  },
  {
   "cell_type": "code",
   "execution_count": 19,
   "metadata": {},
   "outputs": [
    {
     "data": {
      "image/png": "[encoded data removed]",
      "text/plain": [
       "<Figure size 792x792 with 1 Axes>"
      ]
     },
     "metadata": {},
     "output_type": "display_data"
    }
   ],
   "source": [
    "plot_corr(data)"
   ]
  },
  {
   "cell_type": "code",
   "execution_count": 20,
   "metadata": {},
   "outputs": [
    {
     "data": {
      "text/html": [
       "<div>\n",
       "<style scoped>\n",
       "    .dataframe tbody tr th:only-of-type {\n",
       "        vertical-align: middle;\n",
       "    }\n",
       "\n",
       "    .dataframe tbody tr th {\n",
       "        vertical-align: top;\n",
       "    }\n",
       "\n",
       "    .dataframe thead th {\n",
       "        text-align: right;\n",
       "    }\n",
       "</style>\n",
       "<table border=\"1\" class=\"dataframe\">\n",
       "  <thead>\n",
       "    <tr style=\"text-align: right;\">\n",
       "      <th></th>\n",
       "      <th>air-temperature-internal</th>\n",
       "      <th>soil-moisture</th>\n",
       "      <th>light</th>\n",
       "      <th>air-pressure</th>\n",
       "      <th>air-humidity-relative</th>\n",
       "      <th>air-temperature</th>\n",
       "      <th>air-rainfall</th>\n",
       "      <th>air-wind-direction</th>\n",
       "      <th>air-wind-velocity</th>\n",
       "    </tr>\n",
       "  </thead>\n",
       "  <tbody>\n",
       "    <tr>\n",
       "      <th>air-temperature-internal</th>\n",
       "      <td>1.000000</td>\n",
       "      <td>-0.091914</td>\n",
       "      <td>-0.011751</td>\n",
       "      <td>-0.034199</td>\n",
       "      <td>-0.206229</td>\n",
       "      <td>-0.185189</td>\n",
       "      <td>-0.025550</td>\n",
       "      <td>0.060624</td>\n",
       "      <td>-0.019565</td>\n",
       "    </tr>\n",
       "    <tr>\n",
       "      <th>soil-moisture</th>\n",
       "      <td>-0.091914</td>\n",
       "      <td>1.000000</td>\n",
       "      <td>0.042507</td>\n",
       "      <td>0.093470</td>\n",
       "      <td>0.099005</td>\n",
       "      <td>0.223422</td>\n",
       "      <td>-0.045192</td>\n",
       "      <td>0.056985</td>\n",
       "      <td>0.028708</td>\n",
       "    </tr>\n",
       "    <tr>\n",
       "      <th>light</th>\n",
       "      <td>-0.011751</td>\n",
       "      <td>0.042507</td>\n",
       "      <td>1.000000</td>\n",
       "      <td>-0.002167</td>\n",
       "      <td>-0.002255</td>\n",
       "      <td>0.185596</td>\n",
       "      <td>0.001791</td>\n",
       "      <td>-0.008999</td>\n",
       "      <td>0.010988</td>\n",
       "    </tr>\n",
       "    <tr>\n",
       "      <th>air-pressure</th>\n",
       "      <td>-0.034199</td>\n",
       "      <td>0.093470</td>\n",
       "      <td>-0.002167</td>\n",
       "      <td>1.000000</td>\n",
       "      <td>0.979507</td>\n",
       "      <td>-0.025470</td>\n",
       "      <td>-0.020557</td>\n",
       "      <td>-0.003653</td>\n",
       "      <td>0.006323</td>\n",
       "    </tr>\n",
       "    <tr>\n",
       "      <th>air-humidity-relative</th>\n",
       "      <td>-0.206229</td>\n",
       "      <td>0.099005</td>\n",
       "      <td>-0.002255</td>\n",
       "      <td>0.979507</td>\n",
       "      <td>1.000000</td>\n",
       "      <td>-0.008797</td>\n",
       "      <td>-0.013272</td>\n",
       "      <td>-0.000434</td>\n",
       "      <td>0.008906</td>\n",
       "    </tr>\n",
       "    <tr>\n",
       "      <th>air-temperature</th>\n",
       "      <td>-0.185189</td>\n",
       "      <td>0.223422</td>\n",
       "      <td>0.185596</td>\n",
       "      <td>-0.025470</td>\n",
       "      <td>-0.008797</td>\n",
       "      <td>1.000000</td>\n",
       "      <td>0.008939</td>\n",
       "      <td>-0.065138</td>\n",
       "      <td>0.058575</td>\n",
       "    </tr>\n",
       "    <tr>\n",
       "      <th>air-rainfall</th>\n",
       "      <td>-0.025550</td>\n",
       "      <td>-0.045192</td>\n",
       "      <td>0.001791</td>\n",
       "      <td>-0.020557</td>\n",
       "      <td>-0.013272</td>\n",
       "      <td>0.008939</td>\n",
       "      <td>1.000000</td>\n",
       "      <td>-0.013525</td>\n",
       "      <td>0.001599</td>\n",
       "    </tr>\n",
       "    <tr>\n",
       "      <th>air-wind-direction</th>\n",
       "      <td>0.060624</td>\n",
       "      <td>0.056985</td>\n",
       "      <td>-0.008999</td>\n",
       "      <td>-0.003653</td>\n",
       "      <td>-0.000434</td>\n",
       "      <td>-0.065138</td>\n",
       "      <td>-0.013525</td>\n",
       "      <td>1.000000</td>\n",
       "      <td>0.185300</td>\n",
       "    </tr>\n",
       "    <tr>\n",
       "      <th>air-wind-velocity</th>\n",
       "      <td>-0.019565</td>\n",
       "      <td>0.028708</td>\n",
       "      <td>0.010988</td>\n",
       "      <td>0.006323</td>\n",
       "      <td>0.008906</td>\n",
       "      <td>0.058575</td>\n",
       "      <td>0.001599</td>\n",
       "      <td>0.185300</td>\n",
       "      <td>1.000000</td>\n",
       "    </tr>\n",
       "  </tbody>\n",
       "</table>\n",
       "</div>"
      ],
      "text/plain": [
       "                          air-temperature-internal  soil-moisture     light  \\\n",
       "air-temperature-internal                  1.000000      -0.091914 -0.011751   \n",
       "soil-moisture                            -0.091914       1.000000  0.042507   \n",
       "light                                    -0.011751       0.042507  1.000000   \n",
       "air-pressure                             -0.034199       0.093470 -0.002167   \n",
       "air-humidity-relative                    -0.206229       0.099005 -0.002255   \n",
       "air-temperature                          -0.185189       0.223422  0.185596   \n",
       "air-rainfall                             -0.025550      -0.045192  0.001791   \n",
       "air-wind-direction                        0.060624       0.056985 -0.008999   \n",
       "air-wind-velocity                        -0.019565       0.028708  0.010988   \n",
       "\n",
       "                          air-pressure  air-humidity-relative  \\\n",
       "air-temperature-internal     -0.034199              -0.206229   \n",
       "soil-moisture                 0.093470               0.099005   \n",
       "light                        -0.002167              -0.002255   \n",
       "air-pressure                  1.000000               0.979507   \n",
       "air-humidity-relative         0.979507               1.000000   \n",
       "air-temperature              -0.025470              -0.008797   \n",
       "air-rainfall                 -0.020557              -0.013272   \n",
       "air-wind-direction           -0.003653              -0.000434   \n",
       "air-wind-velocity             0.006323               0.008906   \n",
       "\n",
       "                          air-temperature  air-rainfall  air-wind-direction  \\\n",
       "air-temperature-internal        -0.185189     -0.025550            0.060624   \n",
       "soil-moisture                    0.223422     -0.045192            0.056985   \n",
       "light                            0.185596      0.001791           -0.008999   \n",
       "air-pressure                    -0.025470     -0.020557           -0.003653   \n",
       "air-humidity-relative           -0.008797     -0.013272           -0.000434   \n",
       "air-temperature                  1.000000      0.008939           -0.065138   \n",
       "air-rainfall                     0.008939      1.000000           -0.013525   \n",
       "air-wind-direction              -0.065138     -0.013525            1.000000   \n",
       "air-wind-velocity                0.058575      0.001599            0.185300   \n",
       "\n",
       "                          air-wind-velocity  \n",
       "air-temperature-internal          -0.019565  \n",
       "soil-moisture                      0.028708  \n",
       "light                              0.010988  \n",
       "air-pressure                       0.006323  \n",
       "air-humidity-relative              0.008906  \n",
       "air-temperature                    0.058575  \n",
       "air-rainfall                       0.001599  \n",
       "air-wind-direction                 0.185300  \n",
       "air-wind-velocity                  1.000000  "
      ]
     },
     "execution_count": 20,
     "metadata": {},
     "output_type": "execute_result"
    }
   ],
   "source": [
    "data.corr()"
   ]
  },
  {
   "cell_type": "code",
   "execution_count": 21,
   "metadata": {},
   "outputs": [],
   "source": [
    "del data['air-humidity-relative']"
   ]
  },
  {
   "cell_type": "code",
   "execution_count": 22,
   "metadata": {},
   "outputs": [
    {
     "data": {
      "text/html": [
       "<div>\n",
       "<style scoped>\n",
       "    .dataframe tbody tr th:only-of-type {\n",
       "        vertical-align: middle;\n",
       "    }\n",
       "\n",
       "    .dataframe tbody tr th {\n",
       "        vertical-align: top;\n",
       "    }\n",
       "\n",
       "    .dataframe thead th {\n",
       "        text-align: right;\n",
       "    }\n",
       "</style>\n",
       "<table border=\"1\" class=\"dataframe\">\n",
       "  <thead>\n",
       "    <tr style=\"text-align: right;\">\n",
       "      <th></th>\n",
       "      <th>DateTime</th>\n",
       "      <th>Station</th>\n",
       "      <th>air-temperature-internal</th>\n",
       "      <th>soil-moisture</th>\n",
       "      <th>light</th>\n",
       "      <th>air-pressure</th>\n",
       "      <th>air-temperature</th>\n",
       "      <th>air-rainfall</th>\n",
       "      <th>air-wind-direction</th>\n",
       "      <th>air-wind-velocity</th>\n",
       "    </tr>\n",
       "  </thead>\n",
       "  <tbody>\n",
       "    <tr>\n",
       "      <th>0</th>\n",
       "      <td>2018-03-29 12:20:52</td>\n",
       "      <td>LYCEUM_MOD</td>\n",
       "      <td>35.0</td>\n",
       "      <td>63.0</td>\n",
       "      <td>347.0</td>\n",
       "      <td>997.07</td>\n",
       "      <td>34.94</td>\n",
       "      <td>0.0</td>\n",
       "      <td>315.0</td>\n",
       "      <td>0.0</td>\n",
       "    </tr>\n",
       "    <tr>\n",
       "      <th>1</th>\n",
       "      <td>2018-03-29 12:25:07</td>\n",
       "      <td>LYCEUM_MOD</td>\n",
       "      <td>35.0</td>\n",
       "      <td>62.0</td>\n",
       "      <td>0.0</td>\n",
       "      <td>996.94</td>\n",
       "      <td>34.81</td>\n",
       "      <td>0.0</td>\n",
       "      <td>45.0</td>\n",
       "      <td>0.0</td>\n",
       "    </tr>\n",
       "    <tr>\n",
       "      <th>2</th>\n",
       "      <td>2018-03-29 12:30:00</td>\n",
       "      <td>LYCEUM_MOD</td>\n",
       "      <td>35.0</td>\n",
       "      <td>61.0</td>\n",
       "      <td>0.0</td>\n",
       "      <td>996.78</td>\n",
       "      <td>35.94</td>\n",
       "      <td>0.0</td>\n",
       "      <td>45.0</td>\n",
       "      <td>0.0</td>\n",
       "    </tr>\n",
       "    <tr>\n",
       "      <th>3</th>\n",
       "      <td>2018-03-29 12:35:03</td>\n",
       "      <td>LYCEUM_MOD</td>\n",
       "      <td>36.0</td>\n",
       "      <td>61.0</td>\n",
       "      <td>0.0</td>\n",
       "      <td>996.63</td>\n",
       "      <td>35.13</td>\n",
       "      <td>0.0</td>\n",
       "      <td>315.0</td>\n",
       "      <td>0.0</td>\n",
       "    </tr>\n",
       "    <tr>\n",
       "      <th>4</th>\n",
       "      <td>2018-03-29 12:40:04</td>\n",
       "      <td>LYCEUM_MOD</td>\n",
       "      <td>36.0</td>\n",
       "      <td>60.0</td>\n",
       "      <td>0.0</td>\n",
       "      <td>996.45</td>\n",
       "      <td>35.75</td>\n",
       "      <td>0.0</td>\n",
       "      <td>180.0</td>\n",
       "      <td>0.0</td>\n",
       "    </tr>\n",
       "  </tbody>\n",
       "</table>\n",
       "</div>"
      ],
      "text/plain": [
       "              DateTime     Station  air-temperature-internal  soil-moisture  \\\n",
       "0  2018-03-29 12:20:52  LYCEUM_MOD                      35.0           63.0   \n",
       "1  2018-03-29 12:25:07  LYCEUM_MOD                      35.0           62.0   \n",
       "2  2018-03-29 12:30:00  LYCEUM_MOD                      35.0           61.0   \n",
       "3  2018-03-29 12:35:03  LYCEUM_MOD                      36.0           61.0   \n",
       "4  2018-03-29 12:40:04  LYCEUM_MOD                      36.0           60.0   \n",
       "\n",
       "   light  air-pressure  air-temperature  air-rainfall  air-wind-direction  \\\n",
       "0  347.0        997.07            34.94           0.0               315.0   \n",
       "1    0.0        996.94            34.81           0.0                45.0   \n",
       "2    0.0        996.78            35.94           0.0                45.0   \n",
       "3    0.0        996.63            35.13           0.0               315.0   \n",
       "4    0.0        996.45            35.75           0.0               180.0   \n",
       "\n",
       "   air-wind-velocity  \n",
       "0                0.0  \n",
       "1                0.0  \n",
       "2                0.0  \n",
       "3                0.0  \n",
       "4                0.0  "
      ]
     },
     "execution_count": 22,
     "metadata": {},
     "output_type": "execute_result"
    }
   ],
   "source": [
    "# check if it's been removed\n",
    "data.head()"
   ]
  },
  {
   "cell_type": "markdown",
   "metadata": {},
   "source": [
    "## Changing Index"
   ]
  },
  {
   "cell_type": "code",
   "execution_count": 23,
   "metadata": {},
   "outputs": [],
   "source": [
    "data = data.set_index('DateTime')\n",
    "data.index = pd.to_datetime(data.index)"
   ]
  },
  {
   "cell_type": "code",
   "execution_count": 24,
   "metadata": {},
   "outputs": [
    {
     "data": {
      "text/html": [
       "<div>\n",
       "<style scoped>\n",
       "    .dataframe tbody tr th:only-of-type {\n",
       "        vertical-align: middle;\n",
       "    }\n",
       "\n",
       "    .dataframe tbody tr th {\n",
       "        vertical-align: top;\n",
       "    }\n",
       "\n",
       "    .dataframe thead th {\n",
       "        text-align: right;\n",
       "    }\n",
       "</style>\n",
       "<table border=\"1\" class=\"dataframe\">\n",
       "  <thead>\n",
       "    <tr style=\"text-align: right;\">\n",
       "      <th></th>\n",
       "      <th>Station</th>\n",
       "      <th>air-temperature-internal</th>\n",
       "      <th>soil-moisture</th>\n",
       "      <th>light</th>\n",
       "      <th>air-pressure</th>\n",
       "      <th>air-temperature</th>\n",
       "      <th>air-rainfall</th>\n",
       "      <th>air-wind-direction</th>\n",
       "      <th>air-wind-velocity</th>\n",
       "    </tr>\n",
       "    <tr>\n",
       "      <th>DateTime</th>\n",
       "      <th></th>\n",
       "      <th></th>\n",
       "      <th></th>\n",
       "      <th></th>\n",
       "      <th></th>\n",
       "      <th></th>\n",
       "      <th></th>\n",
       "      <th></th>\n",
       "      <th></th>\n",
       "    </tr>\n",
       "  </thead>\n",
       "  <tbody>\n",
       "    <tr>\n",
       "      <th>2018-03-29 12:20:52</th>\n",
       "      <td>LYCEUM_MOD</td>\n",
       "      <td>35.0</td>\n",
       "      <td>63.0</td>\n",
       "      <td>347.0</td>\n",
       "      <td>997.07</td>\n",
       "      <td>34.94</td>\n",
       "      <td>0.0</td>\n",
       "      <td>315.0</td>\n",
       "      <td>0.0</td>\n",
       "    </tr>\n",
       "    <tr>\n",
       "      <th>2018-03-29 12:25:07</th>\n",
       "      <td>LYCEUM_MOD</td>\n",
       "      <td>35.0</td>\n",
       "      <td>62.0</td>\n",
       "      <td>0.0</td>\n",
       "      <td>996.94</td>\n",
       "      <td>34.81</td>\n",
       "      <td>0.0</td>\n",
       "      <td>45.0</td>\n",
       "      <td>0.0</td>\n",
       "    </tr>\n",
       "    <tr>\n",
       "      <th>2018-03-29 12:30:00</th>\n",
       "      <td>LYCEUM_MOD</td>\n",
       "      <td>35.0</td>\n",
       "      <td>61.0</td>\n",
       "      <td>0.0</td>\n",
       "      <td>996.78</td>\n",
       "      <td>35.94</td>\n",
       "      <td>0.0</td>\n",
       "      <td>45.0</td>\n",
       "      <td>0.0</td>\n",
       "    </tr>\n",
       "    <tr>\n",
       "      <th>2018-03-29 12:35:03</th>\n",
       "      <td>LYCEUM_MOD</td>\n",
       "      <td>36.0</td>\n",
       "      <td>61.0</td>\n",
       "      <td>0.0</td>\n",
       "      <td>996.63</td>\n",
       "      <td>35.13</td>\n",
       "      <td>0.0</td>\n",
       "      <td>315.0</td>\n",
       "      <td>0.0</td>\n",
       "    </tr>\n",
       "    <tr>\n",
       "      <th>2018-03-29 12:40:04</th>\n",
       "      <td>LYCEUM_MOD</td>\n",
       "      <td>36.0</td>\n",
       "      <td>60.0</td>\n",
       "      <td>0.0</td>\n",
       "      <td>996.45</td>\n",
       "      <td>35.75</td>\n",
       "      <td>0.0</td>\n",
       "      <td>180.0</td>\n",
       "      <td>0.0</td>\n",
       "    </tr>\n",
       "  </tbody>\n",
       "</table>\n",
       "</div>"
      ],
      "text/plain": [
       "                        Station  air-temperature-internal  soil-moisture  \\\n",
       "DateTime                                                                   \n",
       "2018-03-29 12:20:52  LYCEUM_MOD                      35.0           63.0   \n",
       "2018-03-29 12:25:07  LYCEUM_MOD                      35.0           62.0   \n",
       "2018-03-29 12:30:00  LYCEUM_MOD                      35.0           61.0   \n",
       "2018-03-29 12:35:03  LYCEUM_MOD                      36.0           61.0   \n",
       "2018-03-29 12:40:04  LYCEUM_MOD                      36.0           60.0   \n",
       "\n",
       "                     light  air-pressure  air-temperature  air-rainfall  \\\n",
       "DateTime                                                                  \n",
       "2018-03-29 12:20:52  347.0        997.07            34.94           0.0   \n",
       "2018-03-29 12:25:07    0.0        996.94            34.81           0.0   \n",
       "2018-03-29 12:30:00    0.0        996.78            35.94           0.0   \n",
       "2018-03-29 12:35:03    0.0        996.63            35.13           0.0   \n",
       "2018-03-29 12:40:04    0.0        996.45            35.75           0.0   \n",
       "\n",
       "                     air-wind-direction  air-wind-velocity  \n",
       "DateTime                                                    \n",
       "2018-03-29 12:20:52               315.0                0.0  \n",
       "2018-03-29 12:25:07                45.0                0.0  \n",
       "2018-03-29 12:30:00                45.0                0.0  \n",
       "2018-03-29 12:35:03               315.0                0.0  \n",
       "2018-03-29 12:40:04               180.0                0.0  "
      ]
     },
     "execution_count": 24,
     "metadata": {},
     "output_type": "execute_result"
    }
   ],
   "source": [
    "data.head()"
   ]
  },
  {
   "cell_type": "code",
   "execution_count": 25,
   "metadata": {},
   "outputs": [
    {
     "data": {
      "image/png": "[encoded data removed]",
      "text/plain": [
       "<Figure size 1224x288 with 1 Axes>"
      ]
     },
     "metadata": {},
     "output_type": "display_data"
    }
   ],
   "source": [
    "sns.set(rc={'figure.figsize':(17, 4)})\n",
    "data['2019-03':'2019-03-15']['air-temperature'].plot(linewidth=0.5);"
   ]
  },
  {
   "cell_type": "code",
   "execution_count": 26,
   "metadata": {},
   "outputs": [
    {
     "data": {
      "image/png": "[encoded data removed]",
      "text/plain": [
       "<Figure size 1224x288 with 1 Axes>"
      ]
     },
     "metadata": {},
     "output_type": "display_data"
    }
   ],
   "source": [
    "sns.set(rc={'figure.figsize':(17, 4)})\n",
    "data['2019-03':'2019-10']['air-rainfall'].plot(linewidth=0.5);"
   ]
  },
  {
   "cell_type": "code",
   "execution_count": 27,
   "metadata": {},
   "outputs": [
    {
     "data": {
      "image/png": "[encoded data removed]",
      "text/plain": [
       "<Figure size 1224x288 with 1 Axes>"
      ]
     },
     "metadata": {},
     "output_type": "display_data"
    }
   ],
   "source": [
    "# Start and end of the date range to extract\n",
    "start, end = '2018-05-01', '2019-09-01'\n",
    "# Plot daily and weekly resampled time series together\n",
    "fig, ax = plt.subplots()\n",
    "ax.plot(data.loc[start:end, 'air-temperature-internal'],\n",
    "marker='', linestyle='-', linewidth=0.5, label='air temp')\n",
    "ax.plot(data.loc[start:end, 'soil-moisture'],\n",
    "marker='o', markersize=1, linestyle='-', label='soil Moisture')\n",
    "ax.set_ylabel('Water Height')\n",
    "ax.legend();"
   ]
  },
  {
   "cell_type": "markdown",
   "metadata": {},
   "source": [
    "## Removing Outliers"
   ]
  },
  {
   "cell_type": "code",
   "execution_count": 28,
   "metadata": {},
   "outputs": [],
   "source": [
    "# train kNN detector\n",
    "# from pyod.models.knn import KNN\n",
    "clf_name = 'KNN'\n",
    "clf = KNN()\n",
    "clf.fit(data.iloc[:,2:])\n",
    "# If you want to see the predictions of the training data, you can use this way:\n",
    "y_train_scores = clf.decision_scores_"
   ]
  },
  {
   "cell_type": "code",
   "execution_count": 29,
   "metadata": {},
   "outputs": [],
   "source": [
    "y_train_scores = clf.decision_scores_"
   ]
  },
  {
   "cell_type": "code",
   "execution_count": 30,
   "metadata": {},
   "outputs": [
    {
     "data": {
      "text/plain": [
       "(77094,)"
      ]
     },
     "execution_count": 30,
     "metadata": {},
     "output_type": "execute_result"
    }
   ],
   "source": [
    "y_train_scores.shape"
   ]
  },
  {
   "cell_type": "code",
   "execution_count": 31,
   "metadata": {},
   "outputs": [
    {
     "data": {
      "text/plain": [
       "array([2.51915566e+02, 6.96064652e+00, 5.57405597e+00, ...,\n",
       "       1.30384048e-01, 2.19317122e-01, 2.13775583e-01])"
      ]
     },
     "execution_count": 31,
     "metadata": {},
     "output_type": "execute_result"
    }
   ],
   "source": [
    "y_train_scores"
   ]
  },
  {
   "cell_type": "code",
   "execution_count": 32,
   "metadata": {},
   "outputs": [],
   "source": [
    "outliers=[]\n",
    "def detect_outlier(data_1):\n",
    "    \n",
    "    threshold=3\n",
    "    mean_1 = np.mean(data_1)\n",
    "    std_1 =np.std(data_1)\n",
    "    \n",
    "    \n",
    "    for y in data_1:\n",
    "        z_score= (y - mean_1)/std_1 \n",
    "        if np.abs(z_score) > threshold:\n",
    "            outliers.append(y)\n",
    "    return outliers"
   ]
  },
  {
   "cell_type": "code",
   "execution_count": 33,
   "metadata": {},
   "outputs": [],
   "source": [
    "outlier_datapoints = detect_outlier(data['air-rainfall'])"
   ]
  },
  {
   "cell_type": "code",
   "execution_count": null,
   "metadata": {},
   "outputs": [],
   "source": []
  },
  {
   "cell_type": "markdown",
   "metadata": {},
   "source": [
    "## Plotting Data"
   ]
  },
  {
   "cell_type": "code",
   "execution_count": 34,
   "metadata": {},
   "outputs": [
    {
     "data": {
      "image/png": "[encoded data removed]",
      "text/plain": [
       "<Figure size 1224x288 with 1 Axes>"
      ]
     },
     "metadata": {},
     "output_type": "display_data"
    }
   ],
   "source": [
    "sns.set(rc={'figure.figsize':(17, 4)})\n",
    "data['2019-03-01':'2019-10-01']['air-rainfall'].plot(linewidth=0.5);"
   ]
  },
  {
   "cell_type": "markdown",
   "metadata": {},
   "source": [
    "## Extracing Rainfall Data"
   ]
  },
  {
   "cell_type": "code",
   "execution_count": 35,
   "metadata": {},
   "outputs": [
    {
     "data": {
      "text/plain": [
       "(25660,)"
      ]
     },
     "execution_count": 35,
     "metadata": {},
     "output_type": "execute_result"
    }
   ],
   "source": [
    "data['2019-03':'2019-10']['air-rainfall'].shape"
   ]
  },
  {
   "cell_type": "code",
   "execution_count": 36,
   "metadata": {},
   "outputs": [],
   "source": [
    "Data_RainFall = data[['air-rainfall']].copy()"
   ]
  },
  {
   "cell_type": "code",
   "execution_count": 37,
   "metadata": {},
   "outputs": [
    {
     "data": {
      "text/html": [
       "<div>\n",
       "<style scoped>\n",
       "    .dataframe tbody tr th:only-of-type {\n",
       "        vertical-align: middle;\n",
       "    }\n",
       "\n",
       "    .dataframe tbody tr th {\n",
       "        vertical-align: top;\n",
       "    }\n",
       "\n",
       "    .dataframe thead th {\n",
       "        text-align: right;\n",
       "    }\n",
       "</style>\n",
       "<table border=\"1\" class=\"dataframe\">\n",
       "  <thead>\n",
       "    <tr style=\"text-align: right;\">\n",
       "      <th></th>\n",
       "      <th>air-rainfall</th>\n",
       "    </tr>\n",
       "    <tr>\n",
       "      <th>DateTime</th>\n",
       "      <th></th>\n",
       "    </tr>\n",
       "  </thead>\n",
       "  <tbody>\n",
       "    <tr>\n",
       "      <th>2018-03-29 12:20:52</th>\n",
       "      <td>0.0</td>\n",
       "    </tr>\n",
       "    <tr>\n",
       "      <th>2018-03-29 12:25:07</th>\n",
       "      <td>0.0</td>\n",
       "    </tr>\n",
       "    <tr>\n",
       "      <th>2018-03-29 12:30:00</th>\n",
       "      <td>0.0</td>\n",
       "    </tr>\n",
       "    <tr>\n",
       "      <th>2018-03-29 12:35:03</th>\n",
       "      <td>0.0</td>\n",
       "    </tr>\n",
       "    <tr>\n",
       "      <th>2018-03-29 12:40:04</th>\n",
       "      <td>0.0</td>\n",
       "    </tr>\n",
       "  </tbody>\n",
       "</table>\n",
       "</div>"
      ],
      "text/plain": [
       "                     air-rainfall\n",
       "DateTime                         \n",
       "2018-03-29 12:20:52           0.0\n",
       "2018-03-29 12:25:07           0.0\n",
       "2018-03-29 12:30:00           0.0\n",
       "2018-03-29 12:35:03           0.0\n",
       "2018-03-29 12:40:04           0.0"
      ]
     },
     "execution_count": 37,
     "metadata": {},
     "output_type": "execute_result"
    }
   ],
   "source": [
    "Data_RainFall.head()"
   ]
  },
  {
   "cell_type": "code",
   "execution_count": 38,
   "metadata": {},
   "outputs": [
    {
     "data": {
      "text/html": [
       "<div>\n",
       "<style scoped>\n",
       "    .dataframe tbody tr th:only-of-type {\n",
       "        vertical-align: middle;\n",
       "    }\n",
       "\n",
       "    .dataframe tbody tr th {\n",
       "        vertical-align: top;\n",
       "    }\n",
       "\n",
       "    .dataframe thead th {\n",
       "        text-align: right;\n",
       "    }\n",
       "</style>\n",
       "<table border=\"1\" class=\"dataframe\">\n",
       "  <thead>\n",
       "    <tr style=\"text-align: right;\">\n",
       "      <th></th>\n",
       "      <th>air-rainfall</th>\n",
       "    </tr>\n",
       "    <tr>\n",
       "      <th>DateTime</th>\n",
       "      <th></th>\n",
       "    </tr>\n",
       "  </thead>\n",
       "  <tbody>\n",
       "    <tr>\n",
       "      <th>2018-03-29 12:00:00</th>\n",
       "      <td>0.0</td>\n",
       "    </tr>\n",
       "    <tr>\n",
       "      <th>2018-03-29 13:00:00</th>\n",
       "      <td>0.0</td>\n",
       "    </tr>\n",
       "    <tr>\n",
       "      <th>2018-03-29 14:00:00</th>\n",
       "      <td>0.0</td>\n",
       "    </tr>\n",
       "  </tbody>\n",
       "</table>\n",
       "</div>"
      ],
      "text/plain": [
       "                     air-rainfall\n",
       "DateTime                         \n",
       "2018-03-29 12:00:00           0.0\n",
       "2018-03-29 13:00:00           0.0\n",
       "2018-03-29 14:00:00           0.0"
      ]
     },
     "execution_count": 38,
     "metadata": {},
     "output_type": "execute_result"
    }
   ],
   "source": [
    "# Specify the data columns we want to include (i.e. exclude Year, Month, Weekday Name)\n",
    "data_columns = ['air-rainfall']\n",
    "# Resample to weekly frequency, aggregating with mean\n",
    "Data_RainFall_Hourly = Data_RainFall[data_columns].resample('H').sum()\n",
    "Data_RainFall_Hourly.head(3)"
   ]
  },
  {
   "cell_type": "code",
   "execution_count": 39,
   "metadata": {},
   "outputs": [],
   "source": [
    "Data_RainFall_Hourly.to_pickle('F:\\Learning\\Bsc.IT(Hon)\\Research Project\\ShortTerm Model\\Data\\Lyceum_Filtered_air-rainfall_Hourly.pkl')"
   ]
  },
  {
   "cell_type": "code",
   "execution_count": null,
   "metadata": {},
   "outputs": [],
   "source": []
  }
 ],
 "metadata": {
  "kernelspec": {
   "display_name": "Python 3",
   "language": "python",
   "name": "python3"
  },
  "language_info": {
   "codemirror_mode": {
    "name": "ipython",
    "version": 3
   },
   "file_extension": ".py",
   "mimetype": "text/x-python",
   "name": "python",
   "nbconvert_exporter": "python",
   "pygments_lexer": "ipython3",
   "version": "3.6.9"
  }
 },
 "nbformat": 4,
 "nbformat_minor": 2
}
